{
 "cells": [
  {
   "cell_type": "code",
   "execution_count": 2,
   "id": "1d753c4c",
   "metadata": {},
   "outputs": [],
   "source": [
    "import tskit\n",
    "# getting my tree file \n",
    "ts = tskit.load(\"/home/islar/tree-S1-R1.trees\")"
   ]
  },
  {
   "cell_type": "code",
   "execution_count": 3,
   "id": "4c8279e2",
   "metadata": {},
   "outputs": [
    {
     "name": "stdout",
     "output_type": "stream",
     "text": [
      "Number of trees: 13039\n",
      "Number of samples: 2082\n",
      "Sequence length: 100000000.0\n",
      "Number of nodes: 9612\n",
      "Number of individuals: 7279\n"
     ]
    }
   ],
   "source": [
    "\n",
    "print(f\"Number of trees: {ts.num_trees}\")\n",
    "print(f\"Number of samples: {ts.num_samples}\")\n",
    "print(f\"Sequence length: {ts.sequence_length}\")\n",
    "print(f\"Number of nodes: {ts.num_nodes}\")\n",
    "print(f\"Number of individuals: {ts.num_individuals}\")\n",
    "# this is mostly just me playing around with tskit "
   ]
  },
  {
   "cell_type": "code",
   "execution_count": null,
   "id": "9dde738a",
   "metadata": {},
   "outputs": [],
   "source": []
  },
  {
   "cell_type": "code",
   "execution_count": null,
   "id": "ff671cd6",
   "metadata": {},
   "outputs": [],
   "source": [
    "new_extended = ts.extend_haplotypes()\n",
    "new_extended.dump(\"extended_test_tree.trees\")\n",
    "\n"
   ]
  }
 ],
 "metadata": {
  "kernelspec": {
   "display_name": ".venv",
   "language": "python",
   "name": "python3"
  },
  "language_info": {
   "codemirror_mode": {
    "name": "ipython",
    "version": 3
   },
   "file_extension": ".py",
   "mimetype": "text/x-python",
   "name": "python",
   "nbconvert_exporter": "python",
   "pygments_lexer": "ipython3",
   "version": "3.12.3"
  }
 },
 "nbformat": 4,
 "nbformat_minor": 5
}
